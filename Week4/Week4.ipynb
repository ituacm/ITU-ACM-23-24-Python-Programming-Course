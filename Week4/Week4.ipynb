{
 "cells": [
  {
   "cell_type": "markdown",
   "metadata": {},
   "source": [
    "<img src=\"assets/logo-public-bg-color-1024px.png\" width=20% align=left>\n",
    "<br>\n",
    "\n",
    "\n",
    "\n",
    "# Python 101 - Week 4"
   ]
  },
  {
   "cell_type": "markdown",
   "metadata": {},
   "source": [
    "### Instructor: <a href='marifdemirtas.github.io'>Mehmet Arif Demirtaş</a>"
   ]
  },
  {
   "cell_type": "markdown",
   "metadata": {},
   "source": [
    "---"
   ]
  },
  {
   "cell_type": "markdown",
   "metadata": {},
   "source": [
    "# Today's Plan\n",
    "\n",
    "- Functions\n",
    "- File input and output"
   ]
  },
  {
   "cell_type": "markdown",
   "metadata": {},
   "source": [
    "---"
   ]
  },
  {
   "cell_type": "markdown",
   "metadata": {
    "id": "_asB5ulD4Y2v"
   },
   "source": [
    "# Functions"
   ]
  },
  {
   "cell_type": "markdown",
   "metadata": {
    "id": "oxVPjH9j4Y2z"
   },
   "source": [
    "A function is a named code piece that collects the required statements for a computation.\n",
    "\n",
    "The name can be used to make *function calls* from anywhere in the program.\n",
    "\n",
    "In Python, functions can take zero or more parameters (or *arguments*), and they can return zero or more values.\n",
    "\n",
    "Examples:\n",
    "-    `print()` contains the statements that displays the contents of a string on the monitor.\n",
    "-    `list()` creates an empty list and **returns the list**.\n",
    "-    `sum(nums)` takes a **parameter** called nums, calculates the sum of the elements and **returns the result**."
   ]
  },
  {
   "cell_type": "markdown",
   "metadata": {
    "id": "1dCTU2nQ4Y2z"
   },
   "source": [
    "### Why use functions?"
   ]
  },
  {
   "cell_type": "markdown",
   "metadata": {
    "id": "dkYeGKDU4Y2z"
   },
   "source": [
    "When writing complex programs, the program gets longer and some pieces may need to be repeated. Writing these again and again reduces the readability of the code.\n",
    "\n",
    "In these cases, calling functions to repeat operations increases **code reuse** and prevents 'spaghetti code'."
   ]
  },
  {
   "cell_type": "markdown",
   "metadata": {
    "id": "M016uCDf4Y20"
   },
   "source": [
    "Thanks to functions:\n",
    "\n",
    "- You do not need to write the same code again and again.\n",
    "- Programmers can collaborate on the same project easily.\n",
    "- Dividing work into small units makes it easier to **debug** your programs.\n",
    "- Tasks that are not included in the core capabilities of the programming language can be done in a single statement.\n",
    "- Function definitions can be kept in seperate files and used across multiple programs."
   ]
  },
  {
   "cell_type": "markdown",
   "metadata": {
    "id": "tPY7NOdN4Y20"
   },
   "source": [
    "## Function in Python"
   ]
  },
  {
   "cell_type": "markdown",
   "metadata": {
    "id": "4jPtn41m4Y21"
   },
   "source": [
    "Python functions can be considered as a superset of mathematical functions. All functions in the form of `f(x) = z` can be represented in Python. Moreover, you can use these in function definitions:\n",
    "- multiple inputs: `f(x, y, z, t) = a`\n",
    "- multiple outputs: `f(x) = a, b`\n",
    "- definitions dependant on other functions: `f(x) = g(x) + x`\n",
    "- functions with no input: `list()`\n",
    "- functions with no output: `print(\"Hello\")`\n",
    "- nondeterministic functions that change output based on system state: `time.time()`, `random.random()`\n",
    "- functions that require multiple step recipes\n"
   ]
  },
  {
   "cell_type": "markdown",
   "metadata": {
    "id": "Hda-W1oG4Y22"
   },
   "source": [
    "We use the keyword **def** to define a function.\n",
    "\n",
    "<font color=blue>**def**</font> <font color=red>function_name</font>(<font color=green>function input parameters </font>(comma seperated)):\n",
    "\n",
    "    ...\n",
    "    ...   function operations...\n",
    "    ...\n",
    "    \n",
    "   <font color=blue>**return**</font> return_value"
   ]
  },
  {
   "cell_type": "markdown",
   "metadata": {},
   "source": [
    "Input variables are actually defined as references. If the reference belongs to an immutable object (int, str...), their values are copied to the *stack* in the memory. Their values can be used inside the function, but the changes are not saved after the function ends.\n",
    "\n",
    "If the reference belongs to a mutable object (list, dict...), the object can be mutated from inside the function, as the memory location is the same.\n",
    "\n",
    "Variables created inside the function are only preserved when they are **return**ed or when they are written to an existing reference (e.g. pushed into a list)."
   ]
  },
  {
   "cell_type": "markdown",
   "metadata": {
    "id": "tnM4Iff-4Y23"
   },
   "source": [
    "For example;"
   ]
  },
  {
   "cell_type": "code",
   "execution_count": null,
   "metadata": {
    "id": "oXe3EEAI4Y24"
   },
   "outputs": [],
   "source": [
    "def sum_numbers(num1, num2):\n",
    "                                            # we create a new variable inside the function\n",
    "    sum_result = num1 + num2        # we use the parameters \n",
    "                                           \n",
    "    return sum_result                       # we return the new variable"
   ]
  },
  {
   "cell_type": "markdown",
   "metadata": {
    "id": "UWptfY8A4Y25"
   },
   "source": [
    "The code block above does not do anything on its own. To run the statements inside a function, it needs to be called inside the program."
   ]
  },
  {
   "cell_type": "code",
   "execution_count": null,
   "metadata": {
    "id": "iAgrTSOh4Y26",
    "outputId": "214a882b-27a6-4e6c-a76b-c3c49697b4c7"
   },
   "outputs": [],
   "source": [
    "def sum_numbers(num1, num2):                 # this\n",
    "                                             # part \n",
    "    sum_result = num1 + num2                 # is the\n",
    "                                             # function\n",
    "    return sum_result                        # block\n",
    "\n",
    "a, b = 5, 3            # we define 2 integers\n",
    "c = sum_numbers(a, b)  # we call the function with a and b,\n",
    "                       # we assign the result value to c \n",
    "\n",
    "print(c)"
   ]
  },
  {
   "cell_type": "markdown",
   "metadata": {
    "id": "MUZjxCVj4Y26"
   },
   "source": [
    "We could directly print the function output without assigning it:"
   ]
  },
  {
   "cell_type": "code",
   "execution_count": null,
   "metadata": {
    "id": "oXd0pZKR4Y27",
    "outputId": "be72de4b-203e-49a2-9e9d-84978a91ab3b"
   },
   "outputs": [],
   "source": [
    "def sum_numbers(num1, num2):\n",
    "    sum_result = num1 + num2\n",
    "    return sum_result\n",
    "\n",
    "a, b = 5, 3       \n",
    "print(sum_numbers(a, b))"
   ]
  },
  {
   "cell_type": "markdown",
   "metadata": {
    "id": "XwOYpDu04Y27"
   },
   "source": [
    "If a function has multiple return values, it returns a **tuple** by default."
   ]
  },
  {
   "cell_type": "code",
   "execution_count": null,
   "metadata": {
    "id": "dZrIQp2i4Y27",
    "outputId": "86a1ace9-e2ec-46c6-cd03-83e6e85360ef"
   },
   "outputs": [],
   "source": [
    "def sum_diff(num1, num2):             \n",
    "    sum_ = num1 + num2\n",
    "    diff = num1 - num2\n",
    "    return sum_, diff\n",
    "\n",
    "a, b = 5, 7\n",
    "\n",
    "c = sum_diff(a, b)\n",
    "print(c, type(c))"
   ]
  },
  {
   "cell_type": "markdown",
   "metadata": {},
   "source": [
    "### Tuple Unpacking"
   ]
  },
  {
   "cell_type": "markdown",
   "metadata": {
    "id": "IAhhuDUx4Y28"
   },
   "source": [
    "Tuple syntax can be used on the left hand side to assign the elements of a tuple to multiple variables."
   ]
  },
  {
   "cell_type": "code",
   "execution_count": null,
   "metadata": {},
   "outputs": [],
   "source": [
    "def sum_diff_mul(num1, num2):   \n",
    "    \n",
    "    sum_ = num1 + num2\n",
    "    diff = num1 - num2\n",
    "    mul_ = num1 * num2\n",
    "    \n",
    "    return sum_, diff, mul_\n",
    "\n",
    "a, b = 5, 7"
   ]
  },
  {
   "cell_type": "code",
   "execution_count": null,
   "metadata": {
    "id": "rYqQqxbC4Y28",
    "outputId": "4a671189-e988-4e56-cb03-370c02357d76"
   },
   "outputs": [],
   "source": [
    "c = sum_diff_mul(a, b)          # no errors \n",
    "                                # c is assigned a tuple\n",
    "print(c, type(c))"
   ]
  },
  {
   "cell_type": "code",
   "execution_count": null,
   "metadata": {},
   "outputs": [],
   "source": [
    "c, d, e = sum_diff_mul(a, b)\n",
    "print(c, d, e)"
   ]
  },
  {
   "cell_type": "code",
   "execution_count": null,
   "metadata": {},
   "outputs": [],
   "source": [
    "c, d = sum_diff_mul(a, b)  # this will raise an error"
   ]
  },
  {
   "cell_type": "markdown",
   "metadata": {},
   "source": [
    "Underscore (\\_) operator allows us to automatically delete the values we will not use."
   ]
  },
  {
   "cell_type": "code",
   "execution_count": null,
   "metadata": {},
   "outputs": [],
   "source": [
    "_, only_diff, _ = sum_diff_mul(a, b)\n",
    "print(only_diff)"
   ]
  },
  {
   "cell_type": "markdown",
   "metadata": {},
   "source": [
    "Star (*) operator assings multiple consecutive values to a single variable."
   ]
  },
  {
   "cell_type": "code",
   "execution_count": null,
   "metadata": {},
   "outputs": [],
   "source": [
    "*sum_diff, _ = sum_diff_mul(a, b)\n",
    "print(sum_diff, type(sum_diff))"
   ]
  },
  {
   "cell_type": "code",
   "execution_count": null,
   "metadata": {},
   "outputs": [],
   "source": [
    "*_, diff_mul = sum_diff_mul(a, b)\n",
    "print(diff_mul)"
   ]
  },
  {
   "cell_type": "markdown",
   "metadata": {
    "id": "fQLPk39eGV6F"
   },
   "source": [
    "The arguments can be scalar types like int or float or collections like dicts, lists or sets."
   ]
  },
  {
   "cell_type": "code",
   "execution_count": null,
   "metadata": {
    "colab": {
     "base_uri": "https://localhost:8080/"
    },
    "id": "h_kbbb4OGetp",
    "outputId": "cd362333-7e38-426f-d5ec-7d6e682802d6"
   },
   "outputs": [],
   "source": [
    "def listsquare(thislist):\n",
    "    return [x**2 for x in thislist]\n",
    "\n",
    "list1 = [1, 2, 3, 4]\n",
    "list2 = listsquare(list1)\n",
    "print(list2)"
   ]
  },
  {
   "cell_type": "markdown",
   "metadata": {
    "id": "oOm5cLnf4Y28"
   },
   "source": [
    "A function may not return anything but mutate the object directly:"
   ]
  },
  {
   "cell_type": "code",
   "execution_count": null,
   "metadata": {
    "id": "xdX_NYy-4Y28",
    "outputId": "6a41afc9-4505-4b89-e05b-bd12e0515d27",
    "scrolled": true
   },
   "outputs": [],
   "source": [
    "def increment_list(list):\n",
    "    for i in range(len(list)): # index each element\n",
    "        liste[i] += 1           # and increment\n",
    "           \n",
    "list_x = [1, 2, 3]\n",
    "\n",
    "increment_list(list_x)     # no return value -> no assignment\n",
    "\n",
    "print(list_x)"
   ]
  },
  {
   "cell_type": "markdown",
   "metadata": {
    "id": "kiUEgfRIJzOQ"
   },
   "source": [
    "### Empty Function"
   ]
  },
  {
   "cell_type": "markdown",
   "metadata": {
    "id": "Lh5bwl-dJ2tx"
   },
   "source": [
    "If you need to define empty functions to act as placeholders, you can use the **pass** keyword."
   ]
  },
  {
   "cell_type": "code",
   "execution_count": null,
   "metadata": {
    "id": "3J77iZwaJ3_A"
   },
   "outputs": [],
   "source": [
    "my_list = [1, 2, 3, 4]\n",
    "\n",
    "def empty(a_list):\n",
    "    pass\n",
    "\n",
    "empty(my_list)"
   ]
  },
  {
   "cell_type": "markdown",
   "metadata": {},
   "source": [
    "# Working with Parameters"
   ]
  },
  {
   "cell_type": "markdown",
   "metadata": {},
   "source": [
    "### Named (Keyword) Arguments"
   ]
  },
  {
   "cell_type": "markdown",
   "metadata": {},
   "source": [
    "Using multiple arguments in functions may lead to ambiguities. Assume there is a function call like this in a program:\n",
    "\n",
    "    solve_polynomial(2, 5, 3, 7)\n",
    "\n",
    "We can guess that this calculates the solution for a polynomial, but we need to check the function definition to understand which expression is calculated by it.\n",
    "- $2 + 5x + 3x^2 + 7x^3 = 0$\n",
    "- $2x^3 + 5x^2 + 3x + 7 = 0$"
   ]
  },
  {
   "cell_type": "markdown",
   "metadata": {},
   "source": [
    "To prevent such ambiguities, we can use **named arguments**.\n",
    "\n",
    "    solve_polynomial(x_cubed=2, x_squared=5, x=3, constant=7)\n",
    "\n",
    "The main advantage of named arguments is that the order is not important. The same function can be called with a different order of arguments:\n",
    "\n",
    "    solve_polynomial(constant=7, x=3, x_squared=5, x_cubed=2)\n",
    "\n",
    "In both cases, since the variables will be bound to correct names, the result will be the same."
   ]
  },
  {
   "cell_type": "markdown",
   "metadata": {},
   "source": [
    "You can leave some of the parameters as **positional parameters**."
   ]
  },
  {
   "cell_type": "code",
   "execution_count": null,
   "metadata": {},
   "outputs": [],
   "source": [
    "xs = [1, 2, 3]\n",
    "print(sorted(xs, reverse=True))\n",
    "print(sorted(xs, reverse=False))"
   ]
  },
  {
   "cell_type": "markdown",
   "metadata": {},
   "source": [
    "### Default Values"
   ]
  },
  {
   "cell_type": "markdown",
   "metadata": {},
   "source": [
    "In some cases, it can be useful to assign default values to parameters. For example, in `sorted`, if the reverse parameter is not provided, we assume the default value of False."
   ]
  },
  {
   "cell_type": "code",
   "execution_count": null,
   "metadata": {},
   "outputs": [],
   "source": [
    "xs = [1,2,3]\n",
    "print(sorted(xs, reverse=False))\n",
    "print(sorted(xs))"
   ]
  },
  {
   "cell_type": "markdown",
   "metadata": {},
   "source": [
    "We define the default values while defining the function."
   ]
  },
  {
   "cell_type": "code",
   "execution_count": null,
   "metadata": {},
   "outputs": [],
   "source": [
    "def mydef(param1, param2=1):\n",
    "    print(f\"Param2 is {param2}\")\n",
    "\n",
    "mydef(0, 2)\n",
    "mydef(0)\n"
   ]
  },
  {
   "cell_type": "markdown",
   "metadata": {},
   "source": [
    "We can also use `NoneType` to check if the user has provided any values."
   ]
  },
  {
   "cell_type": "code",
   "execution_count": null,
   "metadata": {},
   "outputs": [],
   "source": [
    "def greet(name=None):\n",
    "    if name is None:\n",
    "        print(\"Hello!\")\n",
    "    else:\n",
    "        print(f\"Hello, {name}!\")\n",
    "\n",
    "greet()\n",
    "greet(\"Arif\")"
   ]
  },
  {
   "cell_type": "markdown",
   "metadata": {},
   "source": [
    "---"
   ]
  },
  {
   "cell_type": "markdown",
   "metadata": {
    "id": "mDF6Aldsf63k"
   },
   "source": [
    "# Scope and Scoping"
   ]
  },
  {
   "cell_type": "code",
   "execution_count": null,
   "metadata": {},
   "outputs": [],
   "source": [
    "def f1(x):\n",
    "    x = x + 1\n",
    "    print(f\"f(x) - x: {x}\")\n",
    "    return x\n",
    "\n",
    "x = 3\n",
    "z = f1(x)\n",
    "print(\"main - x: {x}\")\n",
    "print(\"main - z: {z}\")"
   ]
  },
  {
   "cell_type": "markdown",
   "metadata": {
    "id": "lasJYUX2gXlk"
   },
   "source": [
    "#### Local Scope"
   ]
  },
  {
   "cell_type": "markdown",
   "metadata": {
    "id": "3fpDb9fHgatG"
   },
   "source": [
    "Variables inside a function block are in the **local scope** of the function."
   ]
  },
  {
   "cell_type": "code",
   "execution_count": null,
   "metadata": {
    "colab": {
     "base_uri": "https://localhost:8080/",
     "height": 195
    },
    "executionInfo": {
     "elapsed": 527,
     "status": "error",
     "timestamp": 1633810607966,
     "user": {
      "displayName": "Kevser Günaydın",
      "photoUrl": "https://lh3.googleusercontent.com/a/default-user=s64",
      "userId": "15310268187696357188"
     },
     "user_tz": -180
    },
    "id": "o6SlZlgWimx6",
    "outputId": "8d649ef5-094d-4e45-d8a1-453f91c718a0"
   },
   "outputs": [],
   "source": [
    "def f1():\n",
    "    f1_x = 5\n",
    "\n",
    "    def f2():\n",
    "        print(f\"in f2: {f1_x}\") \n",
    "\n",
    "    f2()\n",
    "\n",
    "print(f1_x)"
   ]
  },
  {
   "cell_type": "code",
   "execution_count": null,
   "metadata": {},
   "outputs": [],
   "source": [
    "f1()"
   ]
  },
  {
   "cell_type": "markdown",
   "metadata": {
    "id": "cKnIW2pQtKOf"
   },
   "source": [
    "#### Global Scope"
   ]
  },
  {
   "cell_type": "code",
   "execution_count": null,
   "metadata": {
    "colab": {
     "base_uri": "https://localhost:8080/"
    },
    "executionInfo": {
     "elapsed": 527,
     "status": "ok",
     "timestamp": 1633812666505,
     "user": {
      "displayName": "Kevser Günaydın",
      "photoUrl": "https://lh3.googleusercontent.com/a/default-user=s64",
      "userId": "15310268187696357188"
     },
     "user_tz": -180
    },
    "id": "0hKqlTMSzUQv",
    "outputId": "8e9d8bc1-1e1b-44ef-def6-505c1cc512d7"
   },
   "outputs": [],
   "source": [
    "global_x = 100\n",
    "\n",
    "def f2():\n",
    "    print(global_x)\n",
    "\n",
    "f2()\n",
    "print(\"---\")\n",
    "print(global_x)"
   ]
  },
  {
   "cell_type": "markdown",
   "metadata": {
    "id": "qzAv_a8UvYL7"
   },
   "source": [
    "Local scope overrides global scope."
   ]
  },
  {
   "cell_type": "code",
   "execution_count": null,
   "metadata": {
    "colab": {
     "base_uri": "https://localhost:8080/"
    },
    "executionInfo": {
     "elapsed": 397,
     "status": "ok",
     "timestamp": 1633813322892,
     "user": {
      "displayName": "Kevser Günaydın",
      "photoUrl": "https://lh3.googleusercontent.com/a/default-user=s64",
      "userId": "15310268187696357188"
     },
     "user_tz": -180
    },
    "id": "BXOIKVRc2rYp",
    "outputId": "fc9f0849-7118-45b6-9e3f-1173edb6142e"
   },
   "outputs": [],
   "source": [
    "x = \"global var\"\n",
    "\n",
    "def f3():\n",
    "    x = \"local var\"\n",
    "    print(x)\n",
    "\n",
    "f3() #local scope \n",
    "print(\"---\") \n",
    "print(x)      #global scope"
   ]
  },
  {
   "cell_type": "markdown",
   "metadata": {
    "id": "Zkc4VcKB1OaR"
   },
   "source": [
    "To access a variable from outer scope, we use the keyword **global**."
   ]
  },
  {
   "cell_type": "code",
   "execution_count": null,
   "metadata": {
    "colab": {
     "base_uri": "https://localhost:8080/"
    },
    "executionInfo": {
     "elapsed": 402,
     "status": "ok",
     "timestamp": 1633813175732,
     "user": {
      "displayName": "Kevser Günaydın",
      "photoUrl": "https://lh3.googleusercontent.com/a/default-user=s64",
      "userId": "15310268187696357188"
     },
     "user_tz": -180
    },
    "id": "N4x9He1L2GgE",
    "outputId": "1e6c7551-f279-47c5-da2b-2260a2b6d55b"
   },
   "outputs": [],
   "source": [
    "x = 100\n",
    "\n",
    "def f4():\n",
    "    global x\n",
    "    x = x + 5\n",
    "    print(x)\n",
    "\n",
    "f4()\n",
    "print(\"---\")\n",
    "print(x)"
   ]
  },
  {
   "cell_type": "markdown",
   "metadata": {},
   "source": [
    "---"
   ]
  },
  {
   "cell_type": "markdown",
   "metadata": {
    "id": "afzNzsdP4Y2-"
   },
   "source": [
    "# Recursion"
   ]
  },
  {
   "cell_type": "markdown",
   "metadata": {
    "id": "mQCydKl34Y2-"
   },
   "source": [
    "So far, we have used **while** and **for** loops to repeat code sections. With functions, we can also repeat code by calling the function multiple times. When a function calls **itself**, we call it a **recursive function.**"
   ]
  },
  {
   "cell_type": "code",
   "execution_count": null,
   "metadata": {},
   "outputs": [],
   "source": [
    "def countdown(n):\n",
    "    if n == 0:                 # base case\n",
    "        print(\"Take off!\")\n",
    "    else:                      # recursive case\n",
    "        print(f\"T-{n}\")\n",
    "        countdown(n-1)"
   ]
  },
  {
   "cell_type": "code",
   "execution_count": null,
   "metadata": {},
   "outputs": [],
   "source": [
    "countdown(10)"
   ]
  },
  {
   "cell_type": "code",
   "execution_count": null,
   "metadata": {
    "colab": {
     "base_uri": "https://localhost:8080/"
    },
    "executionInfo": {
     "elapsed": 501,
     "status": "ok",
     "timestamp": 1633807784800,
     "user": {
      "displayName": "Kevser Günaydın",
      "photoUrl": "https://lh3.googleusercontent.com/a/default-user=s64",
      "userId": "15310268187696357188"
     },
     "user_tz": -180
    },
    "id": "m7kl_t7COMsx",
    "outputId": "4523440c-2016-4eb1-9f27-d1274230f021"
   },
   "outputs": [],
   "source": [
    "def countdown_alt(n):\n",
    "    if n == 0:                 # base case\n",
    "        print(\"Take off!\")\n",
    "        return\n",
    "    print(f\"T-{n}\")\n",
    "    countdown(n-1)"
   ]
  },
  {
   "cell_type": "code",
   "execution_count": null,
   "metadata": {},
   "outputs": [],
   "source": [
    "countdown_alt(10)"
   ]
  },
  {
   "cell_type": "code",
   "execution_count": null,
   "metadata": {
    "id": "PlXNoomB4Y2-",
    "outputId": "b879b944-69f3-4b38-eb21-27e8da4a4307"
   },
   "outputs": [],
   "source": [
    "def fibonacci(x):    \n",
    "    if x == 1 or x == 0:\n",
    "        return 1\n",
    "    \n",
    "    return fibonacci(x - 1) + fibonacci(x - 2)\n",
    "\n",
    "print(fibonacci(5))           # 1 1 2 3 5 8"
   ]
  },
  {
   "cell_type": "code",
   "execution_count": null,
   "metadata": {},
   "outputs": [],
   "source": [
    "%%time\n",
    "fibonacci(36)"
   ]
  },
  {
   "cell_type": "code",
   "execution_count": null,
   "metadata": {},
   "outputs": [],
   "source": [
    "cache = {\n",
    "    0: 1,\n",
    "    1: 1,\n",
    "}\n",
    "def fibonacci_cached(x):\n",
    "    if x not in cache:\n",
    "        cache[x] = fibonacci_cached(x-1) + fibonacci_cached(x-2)\n",
    "    return cache[x]"
   ]
  },
  {
   "cell_type": "code",
   "execution_count": null,
   "metadata": {},
   "outputs": [],
   "source": [
    "%%time\n",
    "fibonacci_cached(36)"
   ]
  },
  {
   "cell_type": "markdown",
   "metadata": {
    "id": "0bshsAT-L67_"
   },
   "source": [
    "# Anonymous (Lambda) Functions"
   ]
  },
  {
   "cell_type": "markdown",
   "metadata": {
    "id": "-W8QzPHTNyZt"
   },
   "source": [
    "Lambda functions can be used for short and single-line functions. This concept is derived from *lambda calculus* where each computation can be expressed in terms of other functions. "
   ]
  },
  {
   "cell_type": "markdown",
   "metadata": {
    "id": "SLvEPKoWO9U1"
   },
   "source": [
    "The syntax for anonymous functions are `lambda args : expression`"
   ]
  },
  {
   "cell_type": "code",
   "execution_count": null,
   "metadata": {
    "colab": {
     "base_uri": "https://localhost:8080/"
    },
    "id": "o1pp4ZdhPStP",
    "outputId": "fa6695e8-ec50-4f19-b2b8-7358abd376c6"
   },
   "outputs": [],
   "source": [
    "def double(x):\n",
    "  return x * 2\n",
    "\n",
    "print(double(5))"
   ]
  },
  {
   "cell_type": "code",
   "execution_count": null,
   "metadata": {
    "colab": {
     "base_uri": "https://localhost:8080/"
    },
    "id": "MqS6d9sJPoVp",
    "outputId": "12c40c5d-42d0-4958-b210-0aadf71ff67c"
   },
   "outputs": [],
   "source": [
    "double = lambda x: x*2\n",
    "\n",
    "print(double(5))"
   ]
  },
  {
   "cell_type": "markdown",
   "metadata": {
    "id": "2y1EmQUbP3ie"
   },
   "source": [
    "Lambda function can be called without assigning it to a name:"
   ]
  },
  {
   "cell_type": "code",
   "execution_count": null,
   "metadata": {
    "colab": {
     "base_uri": "https://localhost:8080/"
    },
    "id": "s277DuMUP8R7",
    "outputId": "9aac3ac4-e619-4605-b505-93f0d5a780d7"
   },
   "outputs": [],
   "source": [
    "print((lambda x: x*2)(5))"
   ]
  },
  {
   "cell_type": "markdown",
   "metadata": {
    "id": "vPNhc4vpQNnR"
   },
   "source": [
    "Lambda functions can also return multiple values with tuples:"
   ]
  },
  {
   "cell_type": "code",
   "execution_count": null,
   "metadata": {
    "colab": {
     "base_uri": "https://localhost:8080/"
    },
    "id": "8DKb53GqQc_g",
    "outputId": "ed8178ab-fe6d-456b-b50f-6566d403c36b"
   },
   "outputs": [],
   "source": [
    "even_odd = lambda x: (\"even\", x) if x%2 == 0 else (\"odd\", x)\n",
    "\n",
    "print(even_odd(23))"
   ]
  },
  {
   "cell_type": "markdown",
   "metadata": {
    "id": "XOR-4n84Q3U5"
   },
   "source": [
    "They can accept multiple args."
   ]
  },
  {
   "cell_type": "code",
   "execution_count": null,
   "metadata": {
    "colab": {
     "base_uri": "https://localhost:8080/"
    },
    "id": "S9yErC7vQ5mi",
    "outputId": "ecb5aba5-04c6-4446-b868-f897326279f3"
   },
   "outputs": [],
   "source": [
    "minimum_val = lambda x, y: x if x < y else y\n",
    "\n",
    "print(minimum_val(2,11))"
   ]
  },
  {
   "cell_type": "markdown",
   "metadata": {
    "id": "Zqb8-dAxWneH"
   },
   "source": [
    "**List comprehensions** can be used as expressions."
   ]
  },
  {
   "cell_type": "code",
   "execution_count": null,
   "metadata": {
    "colab": {
     "base_uri": "https://localhost:8080/"
    },
    "id": "KUD8H1vjXwD6",
    "outputId": "ef1c1d3d-c236-4cce-e78c-40ee5a08e811"
   },
   "outputs": [],
   "source": [
    "list_merge = lambda nested_list: [x for inner_list in nested_list for x in inner_list]\n",
    "\n",
    "nested_list = [[1, 2], [3, 4, 5], [6, 7], [8], [9]]\n",
    "print(list_merge(nested_list))"
   ]
  },
  {
   "cell_type": "markdown",
   "metadata": {},
   "source": [
    "## Functions as Data\n",
    "In Python, functions are also implemented as a data type."
   ]
  },
  {
   "cell_type": "code",
   "execution_count": null,
   "metadata": {},
   "outputs": [],
   "source": [
    "def f1(x):\n",
    "    return x * 2\n",
    "\n",
    "def f2(x):\n",
    "    return x * 5"
   ]
  },
  {
   "cell_type": "code",
   "execution_count": null,
   "metadata": {},
   "outputs": [],
   "source": [
    "print(type(f1))"
   ]
  },
  {
   "cell_type": "markdown",
   "metadata": {},
   "source": [
    "This enables us to assign functions to variables, or pass them as arguments to other functions."
   ]
  },
  {
   "cell_type": "code",
   "execution_count": null,
   "metadata": {},
   "outputs": [],
   "source": [
    "double_fn = f1"
   ]
  },
  {
   "cell_type": "code",
   "execution_count": null,
   "metadata": {},
   "outputs": [],
   "source": [
    "double_fn(5)"
   ]
  },
  {
   "cell_type": "code",
   "execution_count": null,
   "metadata": {},
   "outputs": [],
   "source": [
    "tuple_with_functions = (f1, f2)"
   ]
  },
  {
   "cell_type": "code",
   "execution_count": null,
   "metadata": {},
   "outputs": [],
   "source": [
    "tuple_with_functions"
   ]
  },
  {
   "cell_type": "code",
   "execution_count": null,
   "metadata": {},
   "outputs": [],
   "source": [
    "tuple_with_functions[1](1)"
   ]
  },
  {
   "cell_type": "code",
   "execution_count": null,
   "metadata": {},
   "outputs": [],
   "source": [
    "def map(source_list, map_fn):\n",
    "    '''\n",
    "    Take a list, map all elements using a mapping function f and return a new list.\n",
    "    '''\n",
    "    return [map_fn(item) for item in source_list]"
   ]
  },
  {
   "cell_type": "code",
   "execution_count": null,
   "metadata": {},
   "outputs": [],
   "source": [
    "map([1, 2, 3], f1)"
   ]
  },
  {
   "cell_type": "markdown",
   "metadata": {},
   "source": [
    "Functions also can be created in other functions and returned as return values."
   ]
  },
  {
   "cell_type": "code",
   "execution_count": null,
   "metadata": {},
   "outputs": [],
   "source": [
    "def multiplier(m):\n",
    "    def f(x):\n",
    "        return x * m\n",
    "    return f"
   ]
  },
  {
   "cell_type": "code",
   "execution_count": null,
   "metadata": {},
   "outputs": [],
   "source": [
    "times2 = multiplier(2)\n",
    "times3 = multiplier(3)\n",
    "times7 = multiplier(7)"
   ]
  },
  {
   "cell_type": "code",
   "execution_count": null,
   "metadata": {},
   "outputs": [],
   "source": [
    "times7(5)"
   ]
  },
  {
   "cell_type": "code",
   "execution_count": null,
   "metadata": {},
   "outputs": [],
   "source": [
    "map([1, 2, 3], times2)"
   ]
  },
  {
   "cell_type": "markdown",
   "metadata": {},
   "source": [
    "---"
   ]
  },
  {
   "cell_type": "markdown",
   "metadata": {
    "id": "KRzHDARf4Y2-"
   },
   "source": [
    "# Modules"
   ]
  },
  {
   "cell_type": "markdown",
   "metadata": {
    "id": "g8mW-rbC4Y2-"
   },
   "source": [
    "As our programs get larger, we may need to write programs that span more than one file. In those cases, we can divide our code to **modules** and **import** functions from these modules into our working files."
   ]
  },
  {
   "cell_type": "code",
   "execution_count": null,
   "metadata": {},
   "outputs": [],
   "source": [
    "import my_first_module"
   ]
  },
  {
   "cell_type": "code",
   "execution_count": null,
   "metadata": {},
   "outputs": [],
   "source": [
    "printtype(list_merge)"
   ]
  },
  {
   "cell_type": "code",
   "execution_count": null,
   "metadata": {},
   "outputs": [],
   "source": [
    "my_first_module"
   ]
  },
  {
   "cell_type": "code",
   "execution_count": null,
   "metadata": {},
   "outputs": [],
   "source": [
    "dir(my_first_module)"
   ]
  },
  {
   "cell_type": "code",
   "execution_count": null,
   "metadata": {},
   "outputs": [],
   "source": [
    "my_first_module.variable_x"
   ]
  },
  {
   "cell_type": "code",
   "execution_count": null,
   "metadata": {},
   "outputs": [],
   "source": [
    "my_first_module.calculate(5)"
   ]
  },
  {
   "cell_type": "code",
   "execution_count": null,
   "metadata": {},
   "outputs": [],
   "source": [
    "import my_first_module as mfm"
   ]
  },
  {
   "cell_type": "code",
   "execution_count": null,
   "metadata": {},
   "outputs": [],
   "source": [
    "mfm.calculate(5)"
   ]
  },
  {
   "cell_type": "code",
   "execution_count": null,
   "metadata": {},
   "outputs": [],
   "source": [
    "from my_first_module import calculate"
   ]
  },
  {
   "cell_type": "code",
   "execution_count": null,
   "metadata": {},
   "outputs": [],
   "source": [
    "calculate(5)"
   ]
  },
  {
   "cell_type": "markdown",
   "metadata": {},
   "source": [
    "Python also includes built-in modules that you can import. For example, you can access mathematical operations from [math](https://docs.python.org/3/library/math.html)."
   ]
  },
  {
   "cell_type": "code",
   "execution_count": null,
   "metadata": {
    "colab": {
     "base_uri": "https://localhost:8080/"
    },
    "executionInfo": {
     "elapsed": 413,
     "status": "ok",
     "timestamp": 1633805488368,
     "user": {
      "displayName": "Kevser Günaydın",
      "photoUrl": "https://lh3.googleusercontent.com/a/default-user=s64",
      "userId": "15310268187696357188"
     },
     "user_tz": -180
    },
    "id": "lVI7exS44Y2_",
    "outputId": "0cfaaf4a-2838-4d39-eee8-66d213db27f2"
   },
   "outputs": [],
   "source": [
    "import math\n",
    "print(math.sqrt(3)) # square root of 3\n",
    "print(math.pi) "
   ]
  },
  {
   "cell_type": "code",
   "execution_count": null,
   "metadata": {},
   "outputs": [],
   "source": [
    "import random\n",
    "print(random.random()) # return a random number in (0, 1)\n",
    "print(random.randint(0, 10)) # return a random integer between 0 and 10 (both included)"
   ]
  },
  {
   "cell_type": "code",
   "execution_count": null,
   "metadata": {},
   "outputs": [],
   "source": [
    "import datetime as dt\n",
    "print(dt.datetime.now()) # get current time"
   ]
  },
  {
   "cell_type": "markdown",
   "metadata": {},
   "source": [
    "# File IO\n",
    "\n",
    "So far, we used IO (input/output) functions to directly interact with our users. Another common use case is interacting with content written to files on the filesystem."
   ]
  },
  {
   "cell_type": "markdown",
   "metadata": {},
   "source": [
    "In Python, we represent files with *file handlers.* A file handler is created with `open` function and it can be used to access the contents of the file in different manners."
   ]
  },
  {
   "cell_type": "code",
   "execution_count": null,
   "metadata": {},
   "outputs": [],
   "source": [
    "def open_file(mode):\n",
    "    file_path = '/tmp/t.txt'\n",
    "    f = open(file_path, mode)\n",
    "    return f"
   ]
  },
  {
   "cell_type": "code",
   "execution_count": null,
   "metadata": {},
   "outputs": [],
   "source": [
    "mode = 'w' # w for write, r for read\n",
    "f = open_file(mode)\n",
    "print(type(f))"
   ]
  },
  {
   "cell_type": "code",
   "execution_count": null,
   "metadata": {},
   "outputs": [],
   "source": [
    "f.write(\"Python is great!\\n\")"
   ]
  },
  {
   "cell_type": "code",
   "execution_count": null,
   "metadata": {},
   "outputs": [],
   "source": [
    "f.close()"
   ]
  },
  {
   "cell_type": "code",
   "execution_count": null,
   "metadata": {},
   "outputs": [],
   "source": [
    "f = open_file('r')"
   ]
  },
  {
   "cell_type": "code",
   "execution_count": null,
   "metadata": {},
   "outputs": [],
   "source": [
    "f.read()"
   ]
  },
  {
   "cell_type": "code",
   "execution_count": null,
   "metadata": {},
   "outputs": [],
   "source": [
    "f.close()"
   ]
  },
  {
   "cell_type": "code",
   "execution_count": null,
   "metadata": {},
   "outputs": [],
   "source": [
    "f = open_file('r')\n",
    "print(f.readline())\n",
    "f.close()"
   ]
  },
  {
   "cell_type": "code",
   "execution_count": null,
   "metadata": {},
   "outputs": [],
   "source": [
    "f = open_file('r')\n",
    "print(f.readlines())\n",
    "f.close()"
   ]
  },
  {
   "cell_type": "code",
   "execution_count": null,
   "metadata": {},
   "outputs": [],
   "source": [
    "f = open_file('r+')\n",
    "f.write(\"New words!\")\n",
    "f.close()"
   ]
  },
  {
   "cell_type": "code",
   "execution_count": null,
   "metadata": {},
   "outputs": [],
   "source": [
    "f = open_file('a')\n",
    "f.write(\"New words!\")\n",
    "f.close()"
   ]
  },
  {
   "cell_type": "markdown",
   "metadata": {},
   "source": [
    "---"
   ]
  },
  {
   "cell_type": "markdown",
   "metadata": {},
   "source": [
    "# End of Week 4 \n",
    "- Next week: term break\n",
    "- After the break: \n",
    "    - Object Oriented Programming - alternative way to model real world problems\n",
    "    - Best practices in programming\n"
   ]
  },
  {
   "cell_type": "markdown",
   "metadata": {},
   "source": [
    "# References"
   ]
  },
  {
   "cell_type": "markdown",
   "metadata": {},
   "source": [
    "https://docs.python.org/3/library/"
   ]
  }
 ],
 "metadata": {
  "colab": {
   "collapsed_sections": [],
   "name": "nweek3.ipynb",
   "provenance": []
  },
  "kernelspec": {
   "display_name": "Python 3 (ipykernel)",
   "language": "python",
   "name": "python3"
  },
  "language_info": {
   "codemirror_mode": {
    "name": "ipython",
    "version": 3
   },
   "file_extension": ".py",
   "mimetype": "text/x-python",
   "name": "python",
   "nbconvert_exporter": "python",
   "pygments_lexer": "ipython3",
   "version": "3.9.12"
  }
 },
 "nbformat": 4,
 "nbformat_minor": 1
}
