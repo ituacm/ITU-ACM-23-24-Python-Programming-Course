{
 "cells": [
  {
   "cell_type": "markdown",
   "metadata": {},
   "source": [
    "<img src=\"./assets/logo-public-bg-color-1024px.png\" width=20% align=left>\n",
    "<br>\n",
    "\n",
    "\n",
    "\n",
    "# Python 101 - Week 2"
   ]
  },
  {
   "cell_type": "markdown",
   "metadata": {},
   "source": [
    "### Instructor: <a href='github.com/rojenarda'>Rojen Arda Şeşen</a>\n",
    "Material Created By: <a href='marifdemirtas.github.io'>Mehmet Arif Demirtaş</a>"
   ]
  },
  {
   "cell_type": "markdown",
   "metadata": {},
   "source": [
    "---"
   ]
  },
  {
   "cell_type": "markdown",
   "metadata": {},
   "source": [
    "# Today's Plan\n",
    "\n",
    "- Variable Naming in Python\n",
    "- **Data Types** in Python\n",
    "    - `int`\n",
    "    - `float`\n",
    "    - `bool`\n",
    "    - `str`\n",
    "    - `None`\n",
    "- Conditional Structures\n",
    "- Looping and Iteration\n",
    "- Solving Numerical Problems via Python\n",
    "    - Fibonacci numbers\n",
    "    - Greatest common divisor"
   ]
  },
  {
   "cell_type": "markdown",
   "metadata": {},
   "source": [
    "---"
   ]
  },
  {
   "cell_type": "markdown",
   "metadata": {},
   "source": [
    "Previously, we have talked about instructions. An instruction (or a statement) looks like this:"
   ]
  },
  {
   "cell_type": "code",
   "execution_count": null,
   "metadata": {},
   "outputs": [],
   "source": [
    "x = 1 + 2"
   ]
  },
  {
   "cell_type": "markdown",
   "metadata": {},
   "source": [
    "While all lines that is executed by the computer look like this, a Python script can have lines that is not directly sent to the computer. Python allows us to *write comments*, meant for other programmers who are reading our code."
   ]
  },
  {
   "cell_type": "code",
   "execution_count": null,
   "metadata": {},
   "outputs": [],
   "source": [
    "# adding 1 and 2\n",
    "x = 1 + 2\n",
    "\n",
    "# these lines are ignored by the computer - 🙈🙈🙈"
   ]
  },
  {
   "cell_type": "code",
   "execution_count": null,
   "metadata": {},
   "outputs": [],
   "source": [
    "# if you comment out a line, it won't run\n",
    "# y = 15\n",
    "print(y)"
   ]
  },
  {
   "cell_type": "code",
   "execution_count": null,
   "metadata": {},
   "outputs": [],
   "source": [
    "# you can use pound/hashtag symbols for single line comments\n",
    "\n",
    "'''\n",
    "or you can use \n",
    "three single quotes to start a multi line comment\n",
    "\n",
    "everything you write inbetween will be comments\n",
    "\n",
    "you will need to finish your comment with another three quotes\n",
    "'''\n",
    "code_continues = 0"
   ]
  },
  {
   "cell_type": "markdown",
   "metadata": {},
   "source": [
    "# Variable Naming"
   ]
  },
  {
   "cell_type": "markdown",
   "metadata": {},
   "source": [
    "As we have seen in the first week, a **variable** in Python is a *value*, produced by an *expression*, that is bound to a *name*.\n",
    "\n",
    "><span style=\"color:blue\">var</span> = <span style=\"color:darkred\">2 * 15</span>\n",
    "\n",
    "- <span style=\"color:darkred\">2 * 15</span>: **expression**\n",
    "- <span style=\"color:blue\">var</span>: **name** of the variable\n",
    "- <span style=\"color:green\">30</span>: **value** of the variable\n"
   ]
  },
  {
   "cell_type": "markdown",
   "metadata": {},
   "source": [
    "Since Python code is parsed and understood by a computer, we have to obey certain *rules* while selecting names for our variables. Each *name* that is selected by the user is also known as an **identifier.** \n",
    "\n",
    "The rules for selecting identifiers are as follows:"
   ]
  },
  {
   "cell_type": "markdown",
   "metadata": {},
   "source": [
    "### Identifiers are case sensitive.\n",
    "\n",
    "In Python, `a` (lowercase) and `A` (uppercase) are recognized as different identifiers."
   ]
  },
  {
   "cell_type": "code",
   "execution_count": null,
   "metadata": {},
   "outputs": [],
   "source": [
    "a = 5\n",
    "A = 10"
   ]
  },
  {
   "cell_type": "code",
   "execution_count": null,
   "metadata": {},
   "outputs": [],
   "source": [
    "print(a)"
   ]
  },
  {
   "cell_type": "code",
   "execution_count": null,
   "metadata": {},
   "outputs": [],
   "source": [
    "print(A)"
   ]
  },
  {
   "cell_type": "markdown",
   "metadata": {},
   "source": [
    "### Identifiers can contain letters and underscore (\\_).\n",
    "\n",
    "The following are all valid variable names."
   ]
  },
  {
   "cell_type": "code",
   "execution_count": null,
   "metadata": {},
   "outputs": [],
   "source": [
    "x = 10\n",
    "y_ = 11\n",
    "\n",
    "variable = 1\n",
    "another_variable = 2\n",
    "ThisIsTheThird = 3\n",
    "ALL_CAPS = 4\n",
    "DoNoTdOtHiS = 5"
   ]
  },
  {
   "cell_type": "markdown",
   "metadata": {},
   "source": [
    "These are also valid, but you should avoid using them."
   ]
  },
  {
   "cell_type": "code",
   "execution_count": null,
   "metadata": {},
   "outputs": [],
   "source": [
    "_ = 100\n",
    "_START_WITH_UNDERSCORE = 101\n",
    "__DOUBLEUNDERSCORE__ = 102  # also known as dunder"
   ]
  },
  {
   "cell_type": "markdown",
   "metadata": {},
   "source": [
    "### Identifiers are do not contain spaces ( )."
   ]
  },
  {
   "cell_type": "code",
   "execution_count": null,
   "metadata": {},
   "outputs": [],
   "source": [
    "this_is_valid = 1"
   ]
  },
  {
   "cell_type": "code",
   "execution_count": null,
   "metadata": {},
   "outputs": [],
   "source": [
    "this_cannot be = 2"
   ]
  },
  {
   "cell_type": "markdown",
   "metadata": {},
   "source": [
    "### Identifiers can contain numbers, as long as it is not the first character."
   ]
  },
  {
   "cell_type": "code",
   "execution_count": null,
   "metadata": {},
   "outputs": [],
   "source": [
    "_2apples = 2\n",
    "price_of_1_apple = 1.5\n",
    "apple3 = 3"
   ]
  },
  {
   "cell_type": "code",
   "execution_count": null,
   "metadata": {},
   "outputs": [],
   "source": [
    "4apples = 10"
   ]
  },
  {
   "cell_type": "markdown",
   "metadata": {},
   "source": [
    "### Some reserved words cannot be used as identifiers."
   ]
  },
  {
   "cell_type": "code",
   "execution_count": 1,
   "metadata": {},
   "outputs": [
    {
     "data": {
      "text/plain": [
       "['False',\n",
       " 'None',\n",
       " 'True',\n",
       " '__peg_parser__',\n",
       " 'and',\n",
       " 'as',\n",
       " 'assert',\n",
       " 'async',\n",
       " 'await',\n",
       " 'break',\n",
       " 'class',\n",
       " 'continue',\n",
       " 'def',\n",
       " 'del',\n",
       " 'elif',\n",
       " 'else',\n",
       " 'except',\n",
       " 'finally',\n",
       " 'for',\n",
       " 'from',\n",
       " 'global',\n",
       " 'if',\n",
       " 'import',\n",
       " 'in',\n",
       " 'is',\n",
       " 'lambda',\n",
       " 'nonlocal',\n",
       " 'not',\n",
       " 'or',\n",
       " 'pass',\n",
       " 'raise',\n",
       " 'return',\n",
       " 'try',\n",
       " 'while',\n",
       " 'with',\n",
       " 'yield']"
      ]
     },
     "execution_count": 1,
     "metadata": {},
     "output_type": "execute_result"
    }
   ],
   "source": [
    "import keyword\n",
    "keyword.kwlist"
   ]
  },
  {
   "cell_type": "code",
   "execution_count": null,
   "metadata": {},
   "outputs": [],
   "source": [
    "and = 5"
   ]
  },
  {
   "cell_type": "code",
   "execution_count": null,
   "metadata": {},
   "outputs": [],
   "source": [
    "return = 4"
   ]
  },
  {
   "cell_type": "code",
   "execution_count": null,
   "metadata": {},
   "outputs": [],
   "source": [
    "return_ = 4"
   ]
  },
  {
   "cell_type": "markdown",
   "metadata": {},
   "source": [
    "## 💡 Conventions in Variable Naming"
   ]
  },
  {
   "cell_type": "markdown",
   "metadata": {},
   "source": [
    "While Python allows a wide range of valid identifiers, Python programmers have decided on some **style rules** that makes the Python programs easier to read. These rules are considered good practice and you should try to follow them **unless you have a reason not to**."
   ]
  },
  {
   "cell_type": "markdown",
   "metadata": {},
   "source": [
    "### Choose explanatory names for your variables."
   ]
  },
  {
   "cell_type": "code",
   "execution_count": null,
   "metadata": {},
   "outputs": [],
   "source": [
    "# ❌❌❌\n",
    "a = 10\n",
    "b = 20\n",
    "c = (a**2) * b"
   ]
  },
  {
   "cell_type": "code",
   "execution_count": null,
   "metadata": {},
   "outputs": [],
   "source": [
    "# ✅✅✅\n",
    "edge_len = 10\n",
    "height = 20\n",
    "volume = (edge_len**2) * height"
   ]
  },
  {
   "cell_type": "markdown",
   "metadata": {},
   "source": [
    "### Use lowercase letters and seperate words with underscore."
   ]
  },
  {
   "cell_type": "code",
   "execution_count": null,
   "metadata": {},
   "outputs": [],
   "source": [
    "this_is_a_good_example = 15     # snake_case 🐍 \n",
    "thisIsAlsoNotRecommended = -5   # camelCase 🐪\n",
    "ThisIsNotPreferred = -10        # PascalCase\n",
    "\n",
    "fine = 10\n",
    "notGreat = -5"
   ]
  },
  {
   "cell_type": "markdown",
   "metadata": {},
   "source": [
    "### Use all caps if you want to declare a constant."
   ]
  },
  {
   "cell_type": "code",
   "execution_count": null,
   "metadata": {},
   "outputs": [],
   "source": [
    "PI = 3.14\n",
    "USD_TRY = 18.35\n",
    "\n",
    "IF_YOU_DO_THIS_OTHERS_WILL_KNOW_THAT_THEY_SHOULD_NOT_CHANGE_IT = 1000"
   ]
  },
  {
   "cell_type": "markdown",
   "metadata": {},
   "source": [
    "---"
   ]
  },
  {
   "cell_type": "markdown",
   "metadata": {},
   "source": [
    "# Data Types"
   ]
  },
  {
   "cell_type": "markdown",
   "metadata": {},
   "source": [
    "While all the underlying data in a computer system is stored as binary numbers, programming languages like Python implement different data types to represent various real-life concepts. The underlying representations are **abstracted away** from the user."
   ]
  },
  {
   "cell_type": "markdown",
   "metadata": {},
   "source": [
    "We can use the `type` function to learn the type of a variable or a **literal**.\n",
    "\n",
    "Literals are atomic values that can be directly typed by programmers."
   ]
  },
  {
   "cell_type": "code",
   "execution_count": null,
   "metadata": {},
   "outputs": [],
   "source": [
    "15"
   ]
  },
  {
   "cell_type": "code",
   "execution_count": null,
   "metadata": {},
   "outputs": [],
   "source": [
    "type(15)"
   ]
  },
  {
   "cell_type": "markdown",
   "metadata": {},
   "source": [
    "### Representing Numbers"
   ]
  },
  {
   "cell_type": "code",
   "execution_count": null,
   "metadata": {},
   "outputs": [],
   "source": [
    "var1 = 10\n",
    "type(var1)"
   ]
  },
  {
   "cell_type": "markdown",
   "metadata": {},
   "source": [
    "Whole numbers are represented as `int` (integer) type. Integer type supports arithmetic operations and comparisons."
   ]
  },
  {
   "cell_type": "code",
   "execution_count": null,
   "metadata": {},
   "outputs": [],
   "source": [
    "int1 = 1\n",
    "int2 = 0\n",
    "int3 = -1\n",
    "int4 = 10 * 20\n",
    "int5 = 5 - 12\n",
    "print(type(int1))\n",
    "print(type(int2))\n",
    "print(type(int3))\n",
    "print(type(int4))\n",
    "print(type(int5))"
   ]
  },
  {
   "cell_type": "code",
   "execution_count": null,
   "metadata": {},
   "outputs": [],
   "source": [
    "int1 > int2"
   ]
  },
  {
   "cell_type": "markdown",
   "metadata": {},
   "source": [
    "Another data type is used to represent floating point numbers."
   ]
  },
  {
   "cell_type": "code",
   "execution_count": null,
   "metadata": {},
   "outputs": [],
   "source": [
    "var2 = 5.3\n",
    "type(var2)"
   ]
  },
  {
   "cell_type": "code",
   "execution_count": null,
   "metadata": {},
   "outputs": [],
   "source": [
    "f1 = 1.0\n",
    "f2 = -4.3\n",
    "f3 = .2\n",
    "f4 = 0.2\n",
    "f5 = int1 + .5\n",
    "print(type(f1))\n",
    "print(type(f2))\n",
    "print(type(f3))\n",
    "print(type(f4))\n",
    "print(type(f5))"
   ]
  },
  {
   "cell_type": "markdown",
   "metadata": {},
   "source": [
    "#### Quick Questions"
   ]
  },
  {
   "cell_type": "code",
   "execution_count": null,
   "metadata": {},
   "outputs": [],
   "source": [
    "q1var = 1.5 * 10"
   ]
  },
  {
   "cell_type": "code",
   "execution_count": null,
   "metadata": {},
   "outputs": [],
   "source": [
    "print(q1var)\n",
    "type(q1var)"
   ]
  },
  {
   "cell_type": "code",
   "execution_count": null,
   "metadata": {},
   "outputs": [],
   "source": [
    "q2var = 4 / 2"
   ]
  },
  {
   "cell_type": "code",
   "execution_count": null,
   "metadata": {},
   "outputs": [],
   "source": [
    "print(q2var)\n",
    "type(q2var)"
   ]
  },
  {
   "cell_type": "markdown",
   "metadata": {},
   "source": [
    "### Operator-assignment Operators"
   ]
  },
  {
   "cell_type": "markdown",
   "metadata": {},
   "source": [
    "As you may noticed, we usually need to **perform an operation on a variable**, and then **assign the value to same variable**."
   ]
  },
  {
   "cell_type": "code",
   "execution_count": null,
   "metadata": {},
   "outputs": [],
   "source": [
    "x = 5\n",
    "x = x + 3\n",
    "x"
   ]
  },
  {
   "cell_type": "markdown",
   "metadata": {},
   "source": [
    "In programming, there is a shorthand for writing these kind of operation and assignments together, appropriately named as operator-assignment operators. For example, addition-assignment operator is used like this:"
   ]
  },
  {
   "cell_type": "code",
   "execution_count": null,
   "metadata": {},
   "outputs": [],
   "source": [
    "x = 5\n",
    "x += 3\n",
    "x"
   ]
  },
  {
   "cell_type": "markdown",
   "metadata": {},
   "source": [
    "Most binary operators (operators that take two operands) support this unary (operators that take one operand) notation."
   ]
  },
  {
   "cell_type": "code",
   "execution_count": null,
   "metadata": {},
   "outputs": [],
   "source": [
    "print(x)\n",
    "x *= 3\n",
    "print(x)"
   ]
  },
  {
   "cell_type": "code",
   "execution_count": null,
   "metadata": {},
   "outputs": [],
   "source": [
    "print(x)\n",
    "x -= 11\n",
    "print(x)"
   ]
  },
  {
   "cell_type": "code",
   "execution_count": null,
   "metadata": {},
   "outputs": [],
   "source": [
    "print(x)\n",
    "x /= 7\n",
    "print(x)"
   ]
  },
  {
   "cell_type": "markdown",
   "metadata": {},
   "source": [
    "### Representing Comparisons"
   ]
  },
  {
   "cell_type": "markdown",
   "metadata": {},
   "source": [
    "We have seen comparison operators before, which evaluate to **True** or **False**. These truth values are represented with a new type."
   ]
  },
  {
   "cell_type": "code",
   "execution_count": null,
   "metadata": {},
   "outputs": [],
   "source": [
    "var3 = 10 > 15\n",
    "print(var3)"
   ]
  },
  {
   "cell_type": "code",
   "execution_count": null,
   "metadata": {},
   "outputs": [],
   "source": [
    "type(var3)"
   ]
  },
  {
   "cell_type": "markdown",
   "metadata": {},
   "source": [
    "`bool` type, also known as Boolean, gets its name from George Boole, a mathematician working on logic."
   ]
  },
  {
   "cell_type": "code",
   "execution_count": null,
   "metadata": {},
   "outputs": [],
   "source": [
    "bool1 = 10 > 15\n",
    "bool2 = 10 < 15\n",
    "bool3 = 10 == 15\n",
    "bool4 = 10 != 15\n",
    "print(type(bool1))\n",
    "print(type(bool2))\n",
    "print(type(bool3))\n",
    "print(type(bool4))"
   ]
  },
  {
   "cell_type": "code",
   "execution_count": null,
   "metadata": {},
   "outputs": [],
   "source": [
    "print(bool1)\n",
    "print(bool2)\n",
    "print(bool3)\n",
    "print(bool4)"
   ]
  },
  {
   "cell_type": "markdown",
   "metadata": {},
   "source": [
    "#### Boolean operators"
   ]
  },
  {
   "cell_type": "markdown",
   "metadata": {},
   "source": [
    "In addition to obtaining boolean values from comparisons, `bool` variables can be directly used as literals or with logic operators."
   ]
  },
  {
   "cell_type": "code",
   "execution_count": null,
   "metadata": {},
   "outputs": [],
   "source": [
    "True"
   ]
  },
  {
   "cell_type": "code",
   "execution_count": null,
   "metadata": {},
   "outputs": [],
   "source": [
    "type(True)"
   ]
  },
  {
   "cell_type": "code",
   "execution_count": null,
   "metadata": {},
   "outputs": [],
   "source": [
    "False"
   ]
  },
  {
   "cell_type": "code",
   "execution_count": null,
   "metadata": {},
   "outputs": [],
   "source": [
    "not True"
   ]
  },
  {
   "cell_type": "code",
   "execution_count": null,
   "metadata": {},
   "outputs": [],
   "source": [
    "type(False)"
   ]
  },
  {
   "cell_type": "code",
   "execution_count": null,
   "metadata": {},
   "outputs": [],
   "source": [
    "True or False"
   ]
  },
  {
   "cell_type": "code",
   "execution_count": null,
   "metadata": {},
   "outputs": [],
   "source": [
    "True and False"
   ]
  },
  {
   "cell_type": "code",
   "execution_count": null,
   "metadata": {},
   "outputs": [],
   "source": [
    "True or (True and False)"
   ]
  },
  {
   "cell_type": "code",
   "execution_count": null,
   "metadata": {},
   "outputs": [],
   "source": [
    "False and (10 < 15)"
   ]
  },
  {
   "cell_type": "markdown",
   "metadata": {},
   "source": [
    "### Representing Text"
   ]
  },
  {
   "cell_type": "markdown",
   "metadata": {},
   "source": [
    "We mentioned that text can also be represented in programming languages. We call text pieces as **strings**."
   ]
  },
  {
   "cell_type": "code",
   "execution_count": null,
   "metadata": {},
   "outputs": [],
   "source": [
    "type(\"Hello\")"
   ]
  },
  {
   "cell_type": "code",
   "execution_count": null,
   "metadata": {},
   "outputs": [],
   "source": [
    "str1 = \"Word\"\n",
    "str2 = \"Multiple words and spaces\"\n",
    "str3 = \"Letters, 2 number(s) and symbols?!\"\n",
    "str4 = \"4: No rules in here, except quotation marks\"\n",
    "str5 = 'You can also use single quotes.'"
   ]
  },
  {
   "cell_type": "code",
   "execution_count": null,
   "metadata": {},
   "outputs": [],
   "source": [
    "str6 = \"Someone said: 'If you need to use quotation, alternate them'. - Someone\"\n",
    "str7 = 'He added: You can also use a single \" mark!'"
   ]
  },
  {
   "cell_type": "code",
   "execution_count": null,
   "metadata": {},
   "outputs": [],
   "source": [
    "str_invalid = \"But you need to close these correctly'"
   ]
  },
  {
   "cell_type": "code",
   "execution_count": null,
   "metadata": {},
   "outputs": [],
   "source": [
    "\"These are also known as string literals\""
   ]
  },
  {
   "cell_type": "code",
   "execution_count": null,
   "metadata": {},
   "outputs": [],
   "source": [
    "str8 = \"You can concatenate strings\" + \"with addition symbol\"\n",
    "print(str8)"
   ]
  },
  {
   "cell_type": "code",
   "execution_count": null,
   "metadata": {},
   "outputs": [],
   "source": [
    "\"You\" + \" can\" + \" chain\" + ' strings.'"
   ]
  },
  {
   "cell_type": "code",
   "execution_count": null,
   "metadata": {},
   "outputs": [],
   "source": [
    "str9 = \"But these work on\n",
    "a single line\""
   ]
  },
  {
   "cell_type": "code",
   "execution_count": null,
   "metadata": {},
   "outputs": [],
   "source": [
    "str9_fixed = ''' Use these three single quotes\n",
    "To write\n",
    "multiline\n",
    "        strings\n",
    "'''"
   ]
  },
  {
   "cell_type": "code",
   "execution_count": null,
   "metadata": {},
   "outputs": [],
   "source": [
    "print(str9_fixed)"
   ]
  },
  {
   "cell_type": "markdown",
   "metadata": {},
   "source": [
    "##### 💡 Multiplication with Strings\n",
    "Similar to how you can concatenate strings with addition operator (+), you can also use multiplication operator (\\*) on strings."
   ]
  },
  {
   "cell_type": "code",
   "execution_count": null,
   "metadata": {},
   "outputs": [],
   "source": [
    "str_to_multiply = \"abc\"\n",
    "3 * str_to_multiply"
   ]
  },
  {
   "cell_type": "markdown",
   "metadata": {},
   "source": [
    "### 💡 Representing Nothing?"
   ]
  },
  {
   "cell_type": "markdown",
   "metadata": {},
   "source": [
    "In Python, there is also a special type for representing nothing. It has only a single value."
   ]
  },
  {
   "cell_type": "code",
   "execution_count": null,
   "metadata": {},
   "outputs": [],
   "source": [
    "None"
   ]
  },
  {
   "cell_type": "code",
   "execution_count": null,
   "metadata": {},
   "outputs": [],
   "source": [
    "type(None)"
   ]
  },
  {
   "cell_type": "code",
   "execution_count": null,
   "metadata": {},
   "outputs": [],
   "source": [
    "x = None\n",
    "print(x)"
   ]
  },
  {
   "cell_type": "markdown",
   "metadata": {},
   "source": [
    "### Type Casting"
   ]
  },
  {
   "cell_type": "markdown",
   "metadata": {},
   "source": [
    "Depending on your real-life scenario, you will need to combine multiple data types in your program. You should be careful as many operators behave differently on different datatypes.\n",
    "\n",
    "In many cases, you should use **type casting** to change the type of a variable and *cast it* to the new type. Each type name in Python also work as a type casting operator. "
   ]
  },
  {
   "cell_type": "markdown",
   "metadata": {},
   "source": [
    "##### Ints and Floats"
   ]
  },
  {
   "cell_type": "markdown",
   "metadata": {},
   "source": [
    "By default, numerical values will be created as ints. However, certain operations like divisions can change the type of the numerical value, **even if it is still a whole number.**"
   ]
  },
  {
   "cell_type": "code",
   "execution_count": null,
   "metadata": {},
   "outputs": [],
   "source": [
    "x = 10\n",
    "y = 20\n",
    "print(type(x), type(y))"
   ]
  },
  {
   "cell_type": "code",
   "execution_count": null,
   "metadata": {},
   "outputs": [],
   "source": [
    "print(x + y, type(x + y))"
   ]
  },
  {
   "cell_type": "code",
   "execution_count": null,
   "metadata": {},
   "outputs": [],
   "source": [
    "x_y = x / y\n",
    "print(x_y, type(x_y))"
   ]
  },
  {
   "cell_type": "code",
   "execution_count": null,
   "metadata": {},
   "outputs": [],
   "source": [
    "y_x = y / x\n",
    "print(y_x, type(y_x))"
   ]
  },
  {
   "cell_type": "code",
   "execution_count": null,
   "metadata": {},
   "outputs": [],
   "source": [
    "# cast float into int\n",
    "y_x__int = int(y_x)\n",
    "print(y_x__int, type(y_x__int))"
   ]
  },
  {
   "cell_type": "code",
   "execution_count": null,
   "metadata": {},
   "outputs": [],
   "source": [
    "# cast float into int - info is lost!\n",
    "x_y__int = int(x_y)\n",
    "print(x_y__int, type(x_y__int))"
   ]
  },
  {
   "cell_type": "code",
   "execution_count": null,
   "metadata": {},
   "outputs": [],
   "source": [
    "int(0.99) # what will this produce?"
   ]
  },
  {
   "cell_type": "markdown",
   "metadata": {},
   "source": [
    "You can also use it the other way if you need more precise values."
   ]
  },
  {
   "cell_type": "code",
   "execution_count": null,
   "metadata": {},
   "outputs": [],
   "source": [
    "float(1)"
   ]
  },
  {
   "cell_type": "markdown",
   "metadata": {},
   "source": [
    "##### 💡 Floating Point Errors"
   ]
  },
  {
   "cell_type": "code",
   "execution_count": null,
   "metadata": {},
   "outputs": [],
   "source": [
    "x = (8.6 / 2.)\n",
    "y = (10.2 / 2.)\n",
    "print(x)\n",
    "print(y)"
   ]
  },
  {
   "cell_type": "markdown",
   "metadata": {},
   "source": [
    "What will the following produce?"
   ]
  },
  {
   "cell_type": "code",
   "execution_count": null,
   "metadata": {},
   "outputs": [],
   "source": [
    "x + y"
   ]
  },
  {
   "cell_type": "code",
   "execution_count": null,
   "metadata": {},
   "outputs": [],
   "source": [
    "(8.6 / 2.) + (10.2 / 2.)"
   ]
  },
  {
   "cell_type": "code",
   "execution_count": null,
   "metadata": {},
   "outputs": [],
   "source": [
    "4.3000 + 5.1000"
   ]
  },
  {
   "cell_type": "code",
   "execution_count": null,
   "metadata": {},
   "outputs": [],
   "source": [
    "4.3000 + 5.1001"
   ]
  },
  {
   "cell_type": "markdown",
   "metadata": {},
   "source": [
    "##### Strings and Numerical Values"
   ]
  },
  {
   "cell_type": "markdown",
   "metadata": {},
   "source": [
    "In many cases, you will need to combine strings with numerical values. For example, let's say you computed a value and you want to show it to your user with an explanatory sentence.\n",
    "\n",
    "In that case, you can use the following methods:"
   ]
  },
  {
   "cell_type": "markdown",
   "metadata": {},
   "source": [
    "- **Type casting**"
   ]
  },
  {
   "cell_type": "code",
   "execution_count": null,
   "metadata": {},
   "outputs": [],
   "source": [
    "\"Can you combine words and the number \" + 1 + \" like this?\""
   ]
  },
  {
   "cell_type": "code",
   "execution_count": null,
   "metadata": {},
   "outputs": [],
   "source": [
    "\"Can you combine words and the number \" + str(1) + \" like this?\""
   ]
  },
  {
   "cell_type": "code",
   "execution_count": null,
   "metadata": {},
   "outputs": [],
   "source": [
    "\"Floats also work \" + str(1.5) + \" like this.\""
   ]
  },
  {
   "cell_type": "markdown",
   "metadata": {},
   "source": [
    "- **String interpolation** with f-strings "
   ]
  },
  {
   "cell_type": "code",
   "execution_count": null,
   "metadata": {},
   "outputs": [],
   "source": [
    "f\"This is a f-string. It is like a normal string\""
   ]
  },
  {
   "cell_type": "code",
   "execution_count": null,
   "metadata": {},
   "outputs": [],
   "source": [
    "f\"But you can use variables in them using curly braces, like writing {10} here.\""
   ]
  },
  {
   "cell_type": "code",
   "execution_count": null,
   "metadata": {},
   "outputs": [],
   "source": [
    "f'You can also do operations inside the curly braces and appropriate types will be used: {10 + 2.5}'"
   ]
  },
  {
   "cell_type": "markdown",
   "metadata": {},
   "source": [
    "Curly braces inside f-strings also have some rules that will allow you to **format** numbers."
   ]
  },
  {
   "cell_type": "code",
   "execution_count": null,
   "metadata": {},
   "outputs": [],
   "source": [
    "print(f\"{10.496:.2f}\")\n",
    "print(f\"{10:5d}\")\n",
    "print(f\"{10:10.2f}\")"
   ]
  },
  {
   "cell_type": "markdown",
   "metadata": {},
   "source": [
    "You may also need to transform the opposite way, to use the value of a number given to you as string."
   ]
  },
  {
   "cell_type": "code",
   "execution_count": null,
   "metadata": {},
   "outputs": [],
   "source": [
    "num_str = \"123\""
   ]
  },
  {
   "cell_type": "code",
   "execution_count": null,
   "metadata": {},
   "outputs": [],
   "source": [
    "num_str + 1"
   ]
  },
  {
   "cell_type": "code",
   "execution_count": null,
   "metadata": {},
   "outputs": [],
   "source": [
    "int(num_str) + 1"
   ]
  },
  {
   "cell_type": "code",
   "execution_count": null,
   "metadata": {},
   "outputs": [],
   "source": [
    "num_in = input(\"Enter a number:\")"
   ]
  },
  {
   "cell_type": "code",
   "execution_count": null,
   "metadata": {},
   "outputs": [],
   "source": [
    "num_in"
   ]
  },
  {
   "cell_type": "code",
   "execution_count": null,
   "metadata": {},
   "outputs": [],
   "source": [
    "num_in / 2"
   ]
  },
  {
   "cell_type": "markdown",
   "metadata": {},
   "source": [
    "---"
   ]
  },
  {
   "cell_type": "markdown",
   "metadata": {},
   "source": [
    "### 💡 Some Useful String Functions"
   ]
  },
  {
   "cell_type": "markdown",
   "metadata": {},
   "source": [
    "Python includes some functions on strings that you may use in your programs. Feel free to look back at this table"
   ]
  },
  {
   "cell_type": "markdown",
   "metadata": {},
   "source": [
    "| Fonksiyon  | Tanım  | Örnek | Örnek Çıktı |\n",
    "|:---:|:---:|:---:|:---:|\n",
    "|str.capitalize() | Return a copy of the string with its first character capitalized and the rest lowercased.| \"python\".capitalize() | \"Python\" | \n",
    "|str.count(item) | Return the count of a search string in source string |\"aababaab\".count(\"ab\") | 3|\n",
    "| str.isalnum() | Return True if string only contains <a href=\"https://en.wikipedia.org/wiki/Alphanumeric\">**alphanumeric**</a> characters |\"Python3\".isalnum() |True |\n",
    "| str.isalpha()|Return True if str only contains letters |\"Python3\".isalnum() |False |\n",
    "| str.isnumeric()| Return True if str only contains numbers|\"Python3\".isalnum() |False |\n",
    "| str.islower()| Return True if str is in lowercase|\"Aaa\".islower() |False |\n",
    "| str.lower()| Return a copy of the str in all lowercase | \"Python3\".lower()|\"python3\"|\n",
    "| str.isupper()| Return True if str is in uppercase |\"Aaa\".islower() |False |\n",
    "| str.upper()|Return a copy of the str in all uppercase | \"Python3\".upper()|\"PYTHON3\"|\n",
    "| len(str)| Return the number of characters in str |len(\"Python3\") |7 |\n",
    "| str.replace(x, y)| Replace all occurances of x in str with y |\"Python3\".replace(\"3\", \" 3.9.0\") |\"Python 3.9.0\" |\n"
   ]
  },
  {
   "cell_type": "markdown",
   "metadata": {},
   "source": [
    "---"
   ]
  },
  {
   "cell_type": "markdown",
   "metadata": {},
   "source": [
    "# Conditionals"
   ]
  },
  {
   "cell_type": "markdown",
   "metadata": {},
   "source": [
    "Conditional expressions are a powerful way of using *branching* expressions in your Python programs.\n",
    "\n",
    "In conditional cases, you check the result of a **test** to choose which **block of statements** to run next."
   ]
  },
  {
   "cell_type": "markdown",
   "metadata": {},
   "source": [
    "<img src=\"./assets/if-cond.png\" width=35%>"
   ]
  },
  {
   "cell_type": "markdown",
   "metadata": {},
   "source": [
    "Think of your Netflix account.\n",
    "\n",
    "<img src=\"./assets/netflix.png\">\n",
    "\n",
    "To log in, you will need to your email *and* your password. \n",
    "\n",
    "\n",
    "- **If** the password matches with the password that is associated with the given email in the system, you will be logged in.\n",
    "- **Else**, you will be given an error.\n",
    "\n",
    "This pattern of performing different actions based on the results of a test are called **conditionals**. We will encounter the keywords **if-else** a lot."
   ]
  },
  {
   "cell_type": "markdown",
   "metadata": {},
   "source": [
    "### 💡 Blocks and Indentation in Python\n",
    "Before going on, you should learn about **indentation.**\n",
    "\n",
    "In many programming languages, the order and the relations between blocks of code is maintained with paranthesis. For example, in C++, an if - else block looks like this:\n",
    "\n",
    "    test = resultOfSomeOperations();\n",
    "    if (test) {\n",
    "    secondTest = trueActions();\n",
    "    if (secondTest) {\n",
    "    lastActions();\n",
    "    }\n",
    "    } else {\n",
    "    falseActions();\n",
    "    }\n",
    "    \n",
    "Since this affects the readability, programmers have long used **indentation** - spacing lines on different levels - to make the code flow easier to follow.\n",
    "\n",
    "    test = resultOfSomeOperations();\n",
    "    if (test) {\n",
    "        secondTest = trueActions();\n",
    "        if (secondTest) {\n",
    "            lastActions();\n",
    "        }\n",
    "    } else {\n",
    "        falseActions();\n",
    "    }\n",
    "\n",
    "This makes the lines inside the conditional statement much more clearer. Python takes this a step further and uses *indentation itself* instead of paranthesis for building code blocks. Here's how this code would look in Python:"
   ]
  },
  {
   "cell_type": "code",
   "execution_count": null,
   "metadata": {},
   "outputs": [],
   "source": [
    "test = resultOfSomeOperations();\n",
    "if test:\n",
    "    secondTest = trueActions()\n",
    "    if secondTest:\n",
    "        lastActions()\n",
    "else:\n",
    "    falseActions()"
   ]
  },
  {
   "cell_type": "markdown",
   "metadata": {},
   "source": [
    "Since Python has no other mechanism to manage these blocks, it is important that you are careful with the levels of indentation."
   ]
  },
  {
   "cell_type": "markdown",
   "metadata": {},
   "source": [
    "## if block\n",
    "\n",
    "if block is used to perform a set operations if the test is true, and do nothing if the test is false."
   ]
  },
  {
   "cell_type": "code",
   "execution_count": null,
   "metadata": {
    "scrolled": true
   },
   "outputs": [],
   "source": [
    "n = int(input(\"Enter a number: \"))\n",
    "\n",
    "if n < 10:\n",
    "    print(\"n is less than 10.\")\n",
    "print(f\"n is {n}.\")"
   ]
  },
  {
   "cell_type": "markdown",
   "metadata": {},
   "source": [
    "#### Example: Multiple checks"
   ]
  },
  {
   "cell_type": "code",
   "execution_count": null,
   "metadata": {},
   "outputs": [],
   "source": [
    "age = int(input(\"Enter your age: \"))\n",
    "parent_status = input(\"Is your parent here? (Y/N): \")\n",
    "\n",
    "if parent_status == 'Y' or parent_status == 'N':\n",
    "    if age < 18 and parent_status == 'N':\n",
    "        print(\"You cannot enter the venue.\")\n",
    "    if age >= 18 or (age < 18 and parent_status == 'Y'):\n",
    "        print(\"You can enter the venue.\")"
   ]
  },
  {
   "cell_type": "markdown",
   "metadata": {},
   "source": [
    "In this example, the two nested statements are mutually exclusive (they cannot be true at the same time). However, if this was not the case, two messages could be printed at the same time. Let's assume that we (falsely) included a *less than or equal to* operator (<=) in the first case. "
   ]
  },
  {
   "cell_type": "code",
   "execution_count": null,
   "metadata": {},
   "outputs": [],
   "source": [
    "age = int(input(\"Enter your age: \"))\n",
    "parent_status = input(\"Is your parent here? (Y/N): \")\n",
    "\n",
    "if parent_status == 'Y' or parent_status == 'N':\n",
    "    if age <= 18 and parent_status == 'N':\n",
    "        print(\"You cannot enter the venue.\")\n",
    "    if age >= 18 or (age < 18 and parent_status == 'Y'):\n",
    "        print(\"You can enter the venue.\")"
   ]
  },
  {
   "cell_type": "markdown",
   "metadata": {},
   "source": [
    "To prevent these kinds of logical fallacies, we will introduce the **else** block"
   ]
  },
  {
   "cell_type": "markdown",
   "metadata": {},
   "source": [
    "## else block"
   ]
  },
  {
   "cell_type": "markdown",
   "metadata": {},
   "source": [
    "else block can only be used after another *if* block, and it defines the part of the code that runs **if the test evaluates to false.**"
   ]
  },
  {
   "cell_type": "code",
   "execution_count": null,
   "metadata": {},
   "outputs": [],
   "source": [
    "n = int(input(\"Enter a number: \"))\n",
    "\n",
    "if n < 10:\n",
    "    print(\"n is less than 10.\")\n",
    "else:\n",
    "    print(\"n is NOT less than 10.\")"
   ]
  },
  {
   "cell_type": "code",
   "execution_count": null,
   "metadata": {},
   "outputs": [],
   "source": [
    "n = 10\n",
    "\n",
    "else:\n",
    "    print(n)"
   ]
  },
  {
   "cell_type": "code",
   "execution_count": null,
   "metadata": {},
   "outputs": [],
   "source": [
    "data_password = \"123456\" \n",
    "user_password = input(\"Parolanızı giriniz: \")\n",
    "\n",
    "if user_password == data_password:\n",
    "    print(\"Logged in successfully...\")\n",
    "else:\n",
    "    print(\"Wrong password\")"
   ]
  },
  {
   "cell_type": "markdown",
   "metadata": {},
   "source": [
    "Note that *else does not perform any tests*. So, how would you perform the following flow of action?\n",
    "\n",
    "Let's say you are writing a shopping software.\n",
    "- User clicks 'Order'.\n",
    "- You check their gift card balance.\n",
    "- If gift card balance is enough, you sell the product.\n",
    "- Else, you check their credit card.\n",
    "    - If credit card balance is enough, you sell the product."
   ]
  },
  {
   "cell_type": "code",
   "execution_count": null,
   "metadata": {},
   "outputs": [],
   "source": [
    "price = 150\n",
    "gift_balance = 100\n",
    "credit_card = 1000\n",
    "\n",
    "product_sold = False\n",
    "\n",
    "# Program that runs when 'Order' is clicked\n",
    "if gift_balance > price:\n",
    "    product_sold = True\n",
    "else:\n",
    "    if credit_card > price:\n",
    "        product_sold = True\n",
    "\n",
    "print(f\"Is product sold?: {product_sold}\")"
   ]
  },
  {
   "cell_type": "markdown",
   "metadata": {},
   "source": [
    "But what would happen if we had a third type of balance? You can only write one else block per if block. This would mean that the code would need many nested blocks, hurting readability."
   ]
  },
  {
   "cell_type": "code",
   "execution_count": null,
   "metadata": {},
   "outputs": [],
   "source": [
    "price = 150\n",
    "gift_balance = 100\n",
    "credit_card = 1000\n",
    "third_balance = 10000\n",
    "\n",
    "product_sold = False\n",
    "\n",
    "# Program that runs when 'Order' is clicked\n",
    "if gift_balance > price:\n",
    "    product_sold = True\n",
    "else:\n",
    "    if credit_card > price:\n",
    "        product_sold = True\n",
    "    else:\n",
    "        if third_balance > price:\n",
    "            product_sold = True\n",
    "\n",
    "print(f\"Is product sold?: {product_sold}\")"
   ]
  },
  {
   "cell_type": "markdown",
   "metadata": {},
   "source": [
    "## elif block"
   ]
  },
  {
   "cell_type": "code",
   "execution_count": null,
   "metadata": {},
   "outputs": [],
   "source": [
    "price = 150\n",
    "gift_balance = 100\n",
    "credit_card = 1000\n",
    "\n",
    "product_sold = False\n",
    "\n",
    "# Program that runs when 'Order' is clicked\n",
    "if gift_balance > price:\n",
    "    product_sold = True\n",
    "elif credit_card > price:\n",
    "    product_sold = True\n",
    "\n",
    "print(f\"Is product sold?: {product_sold}\")"
   ]
  },
  {
   "cell_type": "code",
   "execution_count": null,
   "metadata": {},
   "outputs": [],
   "source": [
    "price = 150\n",
    "gift_balance = 100\n",
    "credit_card = 1000\n",
    "third_balance = 10000\n",
    "\n",
    "product_sold = False\n",
    "\n",
    "# Program that runs when 'Order' is clicked\n",
    "if gift_balance > price:\n",
    "    product_sold = True\n",
    "elif credit_card > price:\n",
    "    product_sold = True\n",
    "elif third_balance > price:\n",
    "    product_sold = True\n",
    "\n",
    "print(f\"Is product sold?: {product_sold}\")"
   ]
  },
  {
   "cell_type": "markdown",
   "metadata": {},
   "source": [
    "elif block allows us to use many else-if statements in consecutive order. Similar to else blocks, it cannot exist by itself, but it can come after another if or elif block."
   ]
  },
  {
   "cell_type": "code",
   "execution_count": null,
   "metadata": {},
   "outputs": [],
   "source": [
    "n = 10\n",
    "\n",
    "elif n > 5:\n",
    "    print(\"Test\")"
   ]
  },
  {
   "cell_type": "markdown",
   "metadata": {},
   "source": [
    "It can be followed by a single else block."
   ]
  },
  {
   "cell_type": "code",
   "execution_count": null,
   "metadata": {},
   "outputs": [],
   "source": [
    "keypress = input(\"Press either Y or N.\")\n",
    "\n",
    "if keypress == \"Y\":\n",
    "    print(\"You selected Yes.\")\n",
    "elif keypress == \"N\":\n",
    "    print(\"You selected No.\")\n",
    "else:\n",
    "    print(\"You pressed a wrong key.\")"
   ]
  },
  {
   "cell_type": "markdown",
   "metadata": {},
   "source": [
    "#### Example: Intervals\n",
    "Which one would print the letter grade equivalent of the entered grade?"
   ]
  },
  {
   "cell_type": "code",
   "execution_count": null,
   "metadata": {},
   "outputs": [],
   "source": [
    "n = int(input(\"Enter your exam grade: \"))\n",
    "\n",
    "if n < 50:\n",
    "    print(\"FF\")\n",
    "if n < 60:\n",
    "    print(\"CC\")\n",
    "if n < 70:\n",
    "    print(\"CB\")\n",
    "if n < 80:\n",
    "    print(\"BB\")\n",
    "if n < 90:\n",
    "    print(\"BA\")\n",
    "else:\n",
    "    print(\"AA\")"
   ]
  },
  {
   "cell_type": "code",
   "execution_count": null,
   "metadata": {},
   "outputs": [],
   "source": [
    "n = int(input(\"Enter your exam grade: \"))\n",
    "\n",
    "if n < 50:\n",
    "    print(\"FF\")\n",
    "elif n < 60:\n",
    "    print(\"CC\")\n",
    "elif n < 70:\n",
    "    print(\"CB\")\n",
    "elif n < 80:\n",
    "    print(\"BB\")\n",
    "elif n < 90:\n",
    "    print(\"BA\")\n",
    "else:\n",
    "    print(\"AA\")"
   ]
  },
  {
   "cell_type": "markdown",
   "metadata": {},
   "source": [
    "## Conditional Expression"
   ]
  },
  {
   "cell_type": "markdown",
   "metadata": {},
   "source": [
    "We have seen conditional statements as blocks. However, for producing a **value** based on a **test**, you can also use **conditional expressions**.\n",
    "\n",
    "Remember, expressions are on the right hand side of assignments and they produce values. A conditional expression looks like this:"
   ]
  },
  {
   "cell_type": "code",
   "execution_count": null,
   "metadata": {},
   "outputs": [],
   "source": [
    "first_value = 10\n",
    "second_value = 20\n",
    "\n",
    "test = True\n",
    "\n",
    "variable = first_value if test else second_value\n",
    "print(variable)"
   ]
  },
  {
   "cell_type": "markdown",
   "metadata": {},
   "source": [
    "Consider this code, which calculates the minimum of two numbers. "
   ]
  },
  {
   "cell_type": "code",
   "execution_count": null,
   "metadata": {},
   "outputs": [],
   "source": [
    "n = 4\n",
    "m = 10\n",
    "\n",
    "if n < m:\n",
    "    print(n)\n",
    "else:\n",
    "    print(m)"
   ]
  },
  {
   "cell_type": "markdown",
   "metadata": {},
   "source": [
    "The following expression computes the same thing in a concise way."
   ]
  },
  {
   "cell_type": "code",
   "execution_count": null,
   "metadata": {
    "scrolled": true
   },
   "outputs": [],
   "source": [
    "n = 4\n",
    "m = 10\n",
    "print(n if n < m else m)"
   ]
  },
  {
   "cell_type": "markdown",
   "metadata": {},
   "source": [
    "You can also transform nested if statements into expressions."
   ]
  },
  {
   "cell_type": "code",
   "execution_count": null,
   "metadata": {},
   "outputs": [],
   "source": [
    "n = 4\n",
    "m = 10\n",
    "\n",
    "if n < m:\n",
    "    print(n)\n",
    "else:\n",
    "    if n == m:\n",
    "        print(\"==\")\n",
    "    else:\n",
    "        print(\"m\")\n"
   ]
  },
  {
   "cell_type": "code",
   "execution_count": null,
   "metadata": {},
   "outputs": [],
   "source": [
    "n = 4\n",
    "m = 4\n",
    "\n",
    "print(n if n < m else \"==\" if n == m else m)"
   ]
  },
  {
   "cell_type": "markdown",
   "metadata": {},
   "source": [
    "The same code could be written with elif blocks:"
   ]
  },
  {
   "cell_type": "code",
   "execution_count": null,
   "metadata": {},
   "outputs": [],
   "source": [
    "n = 4\n",
    "m = 10\n",
    "\n",
    "if n < m:\n",
    "    print(n)\n",
    "elif n == m:\n",
    "    print(\"==\")\n",
    "else:\n",
    "    print(\"m\")\n"
   ]
  },
  {
   "cell_type": "markdown",
   "metadata": {},
   "source": [
    "---"
   ]
  },
  {
   "cell_type": "markdown",
   "metadata": {},
   "source": [
    "# Loops"
   ]
  },
  {
   "cell_type": "markdown",
   "metadata": {},
   "source": [
    "We have seen that branching in programming can be used to realize conditional cases, like above. \n",
    "\n",
    "Last week, we have also talked about branching to a previous line, to *repeat* a code section. This is called **looping**.\n",
    "\n",
    "In general, a loop contains a **body** that is repeated until a **test** becomes false."
   ]
  },
  {
   "cell_type": "markdown",
   "metadata": {},
   "source": [
    "<img src=\"./assets/while.png\" width=35%>"
   ]
  },
  {
   "cell_type": "markdown",
   "metadata": {},
   "source": [
    "Let's imagine a simple program that looks like this:\n",
    "\n",
    "    ENTER 4 NUMBERS\n",
    "    5\n",
    "    3\n",
    "    9\n",
    "    1\n",
    "    SUM OF THESE NUMBERS IS 18\n",
    "    \n",
    "How would you code this?"
   ]
  },
  {
   "cell_type": "code",
   "execution_count": null,
   "metadata": {},
   "outputs": [],
   "source": [
    "print(\"ENTER 4 NUMBERS\")\n",
    "n1 = int(input())\n",
    "n2 = int(input())\n",
    "n3 = int(input())\n",
    "n4 = int(input())\n",
    "\n",
    "result = n1 + n2 + n3 + n4\n",
    "print(f\"SUM OF THESE NUMBERS IS {result}\")"
   ]
  },
  {
   "cell_type": "code",
   "execution_count": null,
   "metadata": {},
   "outputs": [],
   "source": [
    "print(\"ENTER 4 NUMBERS\")\n",
    "result = 0\n",
    "result = result + int(input())\n",
    "result = result + int(input())\n",
    "result = result + int(input())\n",
    "result = result + int(input())\n",
    "print(f\"SUM OF THESE NUMBERS IS {result}\")"
   ]
  },
  {
   "cell_type": "code",
   "execution_count": null,
   "metadata": {},
   "outputs": [],
   "source": [
    "print(\"ENTER 4 NUMBERS\")\n",
    "result = 0\n",
    "# repeat this line 4 times\n",
    "    result = result + int(input())\n",
    "print(f\"SUM OF THESE NUMBERS IS {result}\")\n"
   ]
  },
  {
   "cell_type": "markdown",
   "metadata": {},
   "source": [
    "# What if you didn't know how many numbers the user will enter?"
   ]
  },
  {
   "cell_type": "code",
   "execution_count": null,
   "metadata": {},
   "outputs": [],
   "source": [
    "N = int(input(\"ENTER HOW MANY NUMS: \"))\n",
    "print(f\"ENTER {N} NUMBERS\")\n",
    "result = 0\n",
    "# repeat this line N times\n",
    "    result = result + int(input())\n",
    "print(f\"SUM OF THESE NUMBERS IS {result}\")\n"
   ]
  },
  {
   "cell_type": "markdown",
   "metadata": {},
   "source": [
    "## While Loop"
   ]
  },
  {
   "cell_type": "markdown",
   "metadata": {},
   "source": [
    "While loop repeats a code block until the test condition becomes False."
   ]
  },
  {
   "cell_type": "code",
   "execution_count": null,
   "metadata": {},
   "outputs": [],
   "source": [
    "while condition:\n",
    "    statement1()\n",
    "    statement2()\n",
    "    statement3()\n",
    "print(condition) # will print False"
   ]
  },
  {
   "cell_type": "code",
   "execution_count": null,
   "metadata": {},
   "outputs": [],
   "source": [
    "n = 1\n",
    "while n < 3:\n",
    "    print(n)\n",
    "    n = n + 1"
   ]
  },
  {
   "cell_type": "code",
   "execution_count": null,
   "metadata": {},
   "outputs": [],
   "source": [
    "N = int(input(\"ENTER HOW MANY NUMS: \"))\n",
    "print(f\"ENTER {N} NUMBERS\")\n",
    "result = 0\n",
    "i = 0\n",
    "while i < N:\n",
    "    i += 1\n",
    "    result = result + int(input())\n",
    "print(f\"SUM OF THESE NUMBERS IS {result}\")\n"
   ]
  },
  {
   "cell_type": "markdown",
   "metadata": {},
   "source": [
    "#### Example: summation"
   ]
  },
  {
   "cell_type": "code",
   "execution_count": null,
   "metadata": {},
   "outputs": [],
   "source": [
    "n = 1\n",
    "summation = 0\n",
    "\n",
    "while n < 5:  #start as n=1 and stop at n=5. THE BLOCK WILL NOT RUN FOR N=5 ⚠️\n",
    "    summation += n\n",
    "    n += 1\n",
    "    \n",
    "print(f\"Sum of numbers in interval [1, 5): {summation}\")"
   ]
  },
  {
   "cell_type": "markdown",
   "metadata": {},
   "source": [
    "## Loop control: break and continue"
   ]
  },
  {
   "cell_type": "markdown",
   "metadata": {},
   "source": [
    "### a) break"
   ]
  },
  {
   "cell_type": "markdown",
   "metadata": {},
   "source": [
    "<font color=blue>break</font> is one of the most used statements in a loop. It *breaks* the flow, and ends the loop immediately regardless of condition."
   ]
  },
  {
   "cell_type": "code",
   "execution_count": null,
   "metadata": {},
   "outputs": [],
   "source": [
    "# check if a number is prime (very inefficiently)\n",
    "n = 17\n",
    "i = 2\n",
    "while i < n:\n",
    "    print(f\"Testing {i}\")\n",
    "    if n % i == 0:\n",
    "        print(\"N is not Prime\")\n",
    "        break\n",
    "    i += 1"
   ]
  },
  {
   "cell_type": "markdown",
   "metadata": {},
   "source": [
    "### b) continue"
   ]
  },
  {
   "cell_type": "markdown",
   "metadata": {},
   "source": [
    "<font color=blue>continue</font> is similar to break, but instead of breaking the loop completely, it skips the remaining lines in the loop body and *continues* from the start."
   ]
  },
  {
   "cell_type": "code",
   "execution_count": null,
   "metadata": {},
   "outputs": [],
   "source": [
    "# Print the even divisors of a number\n",
    "N = 100\n",
    "\n",
    "i = 0\n",
    "while i < N:\n",
    "    i += 1\n",
    "    if i % 2 == 1:\n",
    "        continue\n",
    "    if N % i == 0:\n",
    "        print(i)\n",
    "    "
   ]
  },
  {
   "cell_type": "markdown",
   "metadata": {},
   "source": [
    "#### Quick question:"
   ]
  },
  {
   "cell_type": "code",
   "execution_count": null,
   "metadata": {},
   "outputs": [],
   "source": [
    "# Print the even divisors of a number - will this work\n",
    "N = 100\n",
    "\n",
    "i = 1\n",
    "while i < N:\n",
    "    if i % 2 == 1:\n",
    "        continue\n",
    "    if N % i == 0:\n",
    "        print(i)\n",
    "    i += 1    "
   ]
  },
  {
   "cell_type": "markdown",
   "metadata": {},
   "source": [
    "## Nested Loops\n",
    "\n",
    "Similar to nested conditionals, it is possible to write many loops inside one another. In that case, the inner loop runs in each iteration of the outer loop."
   ]
  },
  {
   "cell_type": "code",
   "execution_count": null,
   "metadata": {},
   "outputs": [],
   "source": [
    "i = 0\n",
    "while i < 5:\n",
    "    i += 1\n",
    "    j = 0\n",
    "    while j < 5:\n",
    "        j += 1\n",
    "        print(\"inner:\", j)\n",
    "    print(\"OUTER:\", i)"
   ]
  },
  {
   "cell_type": "markdown",
   "metadata": {},
   "source": [
    "In nested loops, control keywords like break-continue only affect the inner loop."
   ]
  },
  {
   "cell_type": "code",
   "execution_count": null,
   "metadata": {},
   "outputs": [],
   "source": [
    "i = 0\n",
    "while i < 5:\n",
    "    i += 1\n",
    "    j = 0\n",
    "    while j < 5:\n",
    "        j += 1\n",
    "        print(\"inner:\", j)\n",
    "        break\n",
    "    print(\"OUTER:\", i)"
   ]
  },
  {
   "cell_type": "markdown",
   "metadata": {},
   "source": [
    "## ⚠️ Infinite Loops\n",
    "It is possible that a while loop does not stop repeating, if the code inside the loop does not affect the condition. Be careful while using loops to make sure that the condition will become False at some point, or your code will run forever."
   ]
  },
  {
   "cell_type": "code",
   "execution_count": null,
   "metadata": {
    "scrolled": true
   },
   "outputs": [],
   "source": [
    "n = 0\n",
    "\n",
    "while n < 5:\n",
    "    print(n)"
   ]
  },
  {
   "cell_type": "markdown",
   "metadata": {},
   "source": [
    "You can force a loop to run infinitely, by using True as its condition."
   ]
  },
  {
   "cell_type": "code",
   "execution_count": null,
   "metadata": {
    "scrolled": true
   },
   "outputs": [],
   "source": [
    "while True:\n",
    "    print(0)"
   ]
  },
  {
   "cell_type": "markdown",
   "metadata": {},
   "source": [
    "This could be handy in a case where you want to stop the loop based on another parameter e.g. user input. See the following guessing game for an example."
   ]
  },
  {
   "cell_type": "code",
   "execution_count": null,
   "metadata": {},
   "outputs": [],
   "source": [
    "computer_num = 5\n",
    "\n",
    "while True:\n",
    "    guess = int(input(\"Please enter a guess between 1 and 10: \"))\n",
    "    if guess == computer_num:\n",
    "        print(\"Congratz!\")\n",
    "        break"
   ]
  },
  {
   "cell_type": "markdown",
   "metadata": {},
   "source": [
    "---"
   ]
  },
  {
   "cell_type": "markdown",
   "metadata": {},
   "source": [
    "# Next Week"
   ]
  },
  {
   "cell_type": "markdown",
   "metadata": {},
   "source": [
    "Almost all variables we have seen so far are **singular**. How can we represent **collections?**\n",
    "- Lists\n",
    "- Tuples\n",
    "- Strings again!\n",
    "\n",
    "Loops combined with these collections will become a lot more powerful:\n",
    "- For loops\n",
    "\n",
    "Could we represent more special features, like *uniqueness*?\n",
    "- Sets\n",
    "- Dictionaries"
   ]
  },
  {
   "cell_type": "markdown",
   "metadata": {},
   "source": [
    "# References"
   ]
  },
  {
   "cell_type": "markdown",
   "metadata": {},
   "source": [
    "https://docs.python.org/3/library/stdtypes.html"
   ]
  }
 ],
 "metadata": {
  "colab": {
   "collapsed_sections": [],
   "name": "week1.ipynb",
   "provenance": []
  },
  "kernelspec": {
   "display_name": "Python 3 (ipykernel)",
   "language": "python",
   "name": "python3"
  },
  "language_info": {
   "codemirror_mode": {
    "name": "ipython",
    "version": 3
   },
   "file_extension": ".py",
   "mimetype": "text/x-python",
   "name": "python",
   "nbconvert_exporter": "python",
   "pygments_lexer": "ipython3",
   "version": "3.9.12"
  }
 },
 "nbformat": 4,
 "nbformat_minor": 1
}
